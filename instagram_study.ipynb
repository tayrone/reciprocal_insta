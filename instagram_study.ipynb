{
  "nbformat": 4,
  "nbformat_minor": 0,
  "metadata": {
    "colab": {
      "name": "instagram_study.ipynb",
      "provenance": [],
      "authorship_tag": "ABX9TyPAbL3zhDWN3Az9GVCuBXs7",
      "include_colab_link": true
    },
    "kernelspec": {
      "name": "python3",
      "display_name": "Python 3"
    }
  },
  "cells": [
    {
      "cell_type": "markdown",
      "metadata": {
        "id": "view-in-github",
        "colab_type": "text"
      },
      "source": [
        "<a href=\"https://colab.research.google.com/github/tayrone/reciprocal_insta/blob/master/instagram_study.ipynb\" target=\"_parent\"><img src=\"https://colab.research.google.com/assets/colab-badge.svg\" alt=\"Open In Colab\"/></a>"
      ]
    },
    {
      "cell_type": "code",
      "metadata": {
        "id": "DAxlMTBX4HJH",
        "colab_type": "code",
        "colab": {
          "base_uri": "https://localhost:8080/",
          "height": 34
        },
        "outputId": "398115fc-3dbd-4b7f-8b86-5f7212e9e143"
      },
      "source": [
        "%cd /content/drive/My Drive/Colab Notebooks/instagram_study"
      ],
      "execution_count": null,
      "outputs": [
        {
          "output_type": "stream",
          "text": [
            "/content/drive/My Drive/Colab Notebooks/instagram_study\n"
          ],
          "name": "stdout"
        }
      ]
    },
    {
      "cell_type": "code",
      "metadata": {
        "id": "tSlSlexh5M9_",
        "colab_type": "code",
        "colab": {}
      },
      "source": [
        "followers = open(\"followers.txt\", \"r\")\n",
        "followers = followers.read().split('\\n')"
      ],
      "execution_count": null,
      "outputs": []
    },
    {
      "cell_type": "code",
      "metadata": {
        "id": "5ef6JrErBadZ",
        "colab_type": "code",
        "colab": {}
      },
      "source": [
        "following = open(\"following.txt\", \"r\")\n",
        "following = following.read().split('\\n')"
      ],
      "execution_count": null,
      "outputs": []
    },
    {
      "cell_type": "code",
      "metadata": {
        "id": "Nq6AhF1gB_UT",
        "colab_type": "code",
        "colab": {}
      },
      "source": [
        "follower_usernames = []\n",
        "following_usernames = []"
      ],
      "execution_count": null,
      "outputs": []
    },
    {
      "cell_type": "code",
      "metadata": {
        "id": "uAS5peje_-v3",
        "colab_type": "code",
        "colab": {}
      },
      "source": [
        "for i in followers:\n",
        "  if(' ' not in i and i.islower()):\n",
        "    follower_usernames.append(i)"
      ],
      "execution_count": null,
      "outputs": []
    },
    {
      "cell_type": "code",
      "metadata": {
        "id": "xc51Rg-sGgzy",
        "colab_type": "code",
        "colab": {}
      },
      "source": [
        "for i in following:\n",
        "  if(' ' not in i and i.islower()):\n",
        "    following_usernames.append(i)"
      ],
      "execution_count": null,
      "outputs": []
    },
    {
      "cell_type": "code",
      "metadata": {
        "id": "L1WCj-2eJ-0m",
        "colab_type": "code",
        "colab": {}
      },
      "source": [
        "len(following_usernames)"
      ],
      "execution_count": null,
      "outputs": []
    },
    {
      "cell_type": "code",
      "metadata": {
        "id": "6bLmKfMKKJhh",
        "colab_type": "code",
        "colab": {}
      },
      "source": [
        "len(follower_usernames)"
      ],
      "execution_count": null,
      "outputs": []
    },
    {
      "cell_type": "code",
      "metadata": {
        "id": "Z58-HDECIJI5",
        "colab_type": "code",
        "colab": {}
      },
      "source": [
        "[name for name in following_usernames if name not in follower_usernames]"
      ],
      "execution_count": null,
      "outputs": []
    },
    {
      "cell_type": "code",
      "metadata": {
        "id": "RlhKL41SNbEz",
        "colab_type": "code",
        "colab": {
          "base_uri": "https://localhost:8080/",
          "height": 34
        },
        "outputId": "404163a1-9a5b-4e42-fbc0-2f818d8e4524"
      },
      "source": [
        "!git init"
      ],
      "execution_count": null,
      "outputs": [
        {
          "output_type": "stream",
          "text": [
            "Reinitialized existing Git repository in /content/drive/My Drive/Colab Notebooks/instagram_study/.git/\n"
          ],
          "name": "stdout"
        }
      ]
    },
    {
      "cell_type": "code",
      "metadata": {
        "id": "EsxTFGqLOAm5",
        "colab_type": "code",
        "colab": {}
      },
      "source": [
        "!git config --global user.email \"tayronesm@gmail.com\"\n",
        "!git config --global user.name \"tayrone\""
      ],
      "execution_count": null,
      "outputs": []
    },
    {
      "cell_type": "code",
      "metadata": {
        "id": "Ks1Lm_x3NskJ",
        "colab_type": "code",
        "colab": {}
      },
      "source": [
        "!git add -A\n",
        "!git commit -m \"first commit\""
      ],
      "execution_count": null,
      "outputs": []
    },
    {
      "cell_type": "code",
      "metadata": {
        "id": "Raec4qB1PVkS",
        "colab_type": "code",
        "colab": {
          "base_uri": "https://localhost:8080/",
          "height": 34
        },
        "outputId": "b4e2bc1c-b944-4453-867a-e005b0e6febc"
      },
      "source": [
        "!git remote rm origin"
      ],
      "execution_count": null,
      "outputs": [
        {
          "output_type": "stream",
          "text": [
            "fatal: No such remote: origin\n"
          ],
          "name": "stdout"
        }
      ]
    },
    {
      "cell_type": "code",
      "metadata": {
        "id": "DB9_LW1nOpyl",
        "colab_type": "code",
        "colab": {}
      },
      "source": [
        "!git remote add origin git@github.com:tayrone/not_following_back_instagram.git\n",
        "!git push -u origin master\n"
      ],
      "execution_count": null,
      "outputs": []
    }
  ]
}