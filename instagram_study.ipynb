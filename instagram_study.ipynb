{
  "nbformat": 4,
  "nbformat_minor": 0,
  "metadata": {
    "colab": {
      "name": "instagram_study.ipynb",
      "provenance": [],
      "authorship_tag": "ABX9TyNumJVGoeSoOae1rKjpd+R/"
    },
    "kernelspec": {
      "name": "python3",
      "display_name": "Python 3"
    }
  },
  "cells": [
    {
      "cell_type": "code",
      "metadata": {
        "id": "DAxlMTBX4HJH",
        "colab_type": "code",
        "colab": {}
      },
      "source": [
        "%cd /content/drive/My Drive/Colab Notebooks/instagram_study"
      ],
      "execution_count": null,
      "outputs": []
    },
    {
      "cell_type": "code",
      "metadata": {
        "id": "tSlSlexh5M9_",
        "colab_type": "code",
        "colab": {}
      },
      "source": [
        "followers = open(\"followers.txt\", \"r\")\n",
        "followers = followers.read().split('\\n')"
      ],
      "execution_count": 2,
      "outputs": []
    },
    {
      "cell_type": "code",
      "metadata": {
        "id": "5ef6JrErBadZ",
        "colab_type": "code",
        "colab": {}
      },
      "source": [
        "following = open(\"following.txt\", \"r\")\n",
        "following = following.read().split('\\n')"
      ],
      "execution_count": 3,
      "outputs": []
    },
    {
      "cell_type": "code",
      "metadata": {
        "id": "kYhPBF-uS8bj",
        "colab_type": "code",
        "colab": {}
      },
      "source": [
        "not_fb = [name for name in following if name not in followers]"
      ],
      "execution_count": 4,
      "outputs": []
    },
    {
      "cell_type": "code",
      "metadata": {
        "id": "Dv27Hk7TTTAc",
        "colab_type": "code",
        "colab": {
          "base_uri": "https://localhost:8080/",
          "height": 1000
        },
        "outputId": "07d3c9bb-0e21-4fa9-add6-4c3a21730bb9"
      },
      "source": [
        "[name for name in not_fb if (' ' not in name and name.islower())]"
      ],
      "execution_count": 5,
      "outputs": [
        {
          "output_type": "execute_result",
          "data": {
            "text/plain": [
              "['andre_pilli',\n",
              " 'nathanieldrew_',\n",
              " 'galeroso',\n",
              " 'ahammaday',\n",
              " 'comuacin',\n",
              " 'maangchi',\n",
              " 'igorcarvalhorodrigues',\n",
              " 'joshuaweissman',\n",
              " 'fundodequintal_ofc',\n",
              " 'newyorkercartoons',\n",
              " 'crossfitblackbelt',\n",
              " 'paulomoreirap',\n",
              " 'kim.rocha',\n",
              " 'funncob',\n",
              " 'newyorkermag',\n",
              " 'steinwayandsons',\n",
              " 'maxc20',\n",
              " 'mribeirodantas',\n",
              " 'foquiou',\n",
              " 'yoyoma',\n",
              " 'finneas',\n",
              " 'barbarampsi',\n",
              " 'gifsgalerahumanas',\n",
              " 'barretovs',\n",
              " 'thefabstory',\n",
              " 'l_palmarini',\n",
              " 'luudmayra',\n",
              " 'biigodegrossoo',\n",
              " 'caabradapestee',\n",
              " '_merakipersonalizados',\n",
              " 'deebiloide',\n",
              " 'videospararir',\n",
              " 'deusogrego',\n",
              " 'rodrigo_santospf',\n",
              " 'ezueira',\n",
              " 'rafaavitti',\n",
              " 'danielkharitonov.official',\n",
              " 'sousemvergonha',\n",
              " 'piano_talks',\n",
              " 'andersonnahring',\n",
              " 'raynarasousa.1',\n",
              " 'lukaokros',\n",
              " 'cristian_budu_pianista',\n",
              " 'engenhariadon',\n",
              " 'soueunavida',\n",
              " 'bizay',\n",
              " 'alicelk',\n",
              " 'camera_duels',\n",
              " 'kjapa',\n",
              " 'mateuscarvalhooficial',\n",
              " 'paulo.nazareth',\n",
              " 'curtindomiguel',\n",
              " 'instituto_piano_brasileiro',\n",
              " 'riquepassa_',\n",
              " 'lucapalmarini',\n",
              " 'c.polizeli',\n",
              " 'bruno_perini',\n",
              " 'aless_ndro',\n",
              " 'thejohnfish',\n",
              " 'lorenzoviotti',\n",
              " 'lianedias03',\n",
              " 'luydimedeiros',\n",
              " 'gabriel.arones',\n",
              " '_carolindica',\n",
              " 'katethepianist',\n",
              " 'danielhsupiano',\n",
              " 'allentega',\n",
              " 'seongjinchoofficial',\n",
              " 'adrianbliss',\n",
              " 'sir_on_ski',\n",
              " 'alicesaraott_official',\n",
              " 'andyottensamer',\n",
              " 'comecorda',\n",
              " 'caabramacho',\n",
              " 'bengunsuk',\n",
              " 'pianomilan',\n",
              " 'lojaskev',\n",
              " 'supermariomarzo',\n",
              " 'juanfloristanpiano',\n",
              " 'levi.sct',\n",
              " 'maria.joao.pires',\n",
              " 'johnmayer',\n",
              " 'apple',\n",
              " 'apple',\n",
              " 'mario_marzo',\n",
              " 'shishkindmitry',\n",
              " 'louischwiz',\n",
              " 'dbarenboim',\n",
              " 'vsco',\n",
              " 'andreesodre',\n",
              " 'biawar',\n",
              " 'kazfirpo',\n",
              " 'khatiabuniatishvili',\n",
              " 'gabrielcalamari',\n",
              " 'kevinwonka',\n",
              " 'taviao',\n",
              " 'vitorsbourguignon',\n",
              " 'lolaastanova',\n",
              " 'milwsymphorch',\n",
              " 'brunopassosbr',\n",
              " 'piano.talents',\n",
              " 'pianists',\n",
              " 'yujawang.official',\n",
              " 'paigeromero',\n",
              " 'natewendelburg3',\n",
              " 'mohammedalaqil',\n",
              " 'vnmarcos',\n",
              " 'caiosoares9',\n",
              " 'timtothewild',\n",
              " 'finnharries',\n",
              " 'jackharries',\n",
              " 'msoephoto',\n",
              " 'ever4one',\n",
              " 'fernandazanellan',\n",
              " 'thaisgaudencio',\n",
              " 'flavinhacabrals']"
            ]
          },
          "metadata": {
            "tags": []
          },
          "execution_count": 5
        }
      ]
    }
  ]
}